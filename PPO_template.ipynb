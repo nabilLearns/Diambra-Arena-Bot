{
  "nbformat": 4,
  "nbformat_minor": 0,
  "metadata": {
    "colab": {
      "name": "PPO_template.ipynb",
      "provenance": []
    },
    "kernelspec": {
      "name": "python3",
      "display_name": "Python 3"
    },
    "language_info": {
      "name": "python"
    }
  },
  "cells": [
    {
      "cell_type": "code",
      "execution_count": null,
      "metadata": {
        "id": "nOG6FM6IDWwX"
      },
      "outputs": [],
      "source": [
        "import torch.nn as nn\n",
        "import torch.optim as optim\n",
        "import numpy as np\n",
        "import pandas as pd"
      ]
    },
    {
      "cell_type": "code",
      "source": [
        "def g_func(eps, A):\n",
        "  return (1+eps)*A if A>=0 else (1-eps)*A"
      ],
      "metadata": {
        "id": "pcjJ0ET_LYac"
      },
      "execution_count": null,
      "outputs": []
    },
    {
      "cell_type": "code",
      "source": [
        "def PPO_CLIP_objective(trajectories, last_trajectory, advantages, eps):\n",
        "  sum = 0\n",
        "  for trajectory in range(trajectories.shape[0]):\n",
        "    for timestep in range(trajectories.shape[1]):\n",
        "        sum += min(trajectories[trajectory][timestep]/last_trajectory[timestep],g_func(eps, advantages[trajectories][timestep]))\n",
        "  return (1/(trajectories.shape[0]*trajectories.shape[2]))*sum"
      ],
      "metadata": {
        "id": "PAn_bkX5Dsnl"
      },
      "execution_count": null,
      "outputs": []
    },
    {
      "cell_type": "code",
      "source": [
        "class Actor(nn.Module):\n",
        "   def __init__(self, in_size, hidden_size, out_size):\n",
        "     self.in_size = in_size\n",
        "     self.hidden_size = hidden_size\n",
        "     self.out_size = out_size\n",
        "     self.l1 = nn.Linear(in_size, hidden_size)\n",
        "     self.ac1 = nn.ReLU()\n",
        "     self.l2 = nn.Linear(hidden_size, out_size)\n",
        "     self.ac2 = nn.ReLU()\n",
        "     \n",
        "   def forward(self, x):\n",
        "     x = self.l1(x)\n",
        "     x = self.ac1(x)\n",
        "     x = self.l2(x)\n",
        "     x = self.ac2(x)\n",
        "     return x"
      ],
      "metadata": {
        "id": "CIC-O7erOc2q"
      },
      "execution_count": null,
      "outputs": []
    },
    {
      "cell_type": "code",
      "source": [
        "class Critic(nn.Module):\n",
        "   def __init__(self, in_size, hidden_size, out_size):\n",
        "     self.in_size = in_size\n",
        "     self.hidden_size = hidden_size\n",
        "     self.out_size = out_size\n",
        "     self.l1 = nn.Linear(in_size, hidden_size)\n",
        "     self.ac1 = nn.ReLU()\n",
        "     self.l2 = nn.Linear(hidden_size, out_size)\n",
        "     self.ac2 = nn.ReLU()\n",
        "     \n",
        "   def forward(self, x):\n",
        "     x = self.l1(x)\n",
        "     x = self.ac1(x)\n",
        "     x = self.l2(x)\n",
        "     x = self.ac2(x)\n",
        "     return x"
      ],
      "metadata": {
        "id": "F_RC-3eSQNZJ"
      },
      "execution_count": null,
      "outputs": []
    },
    {
      "cell_type": "code",
      "source": [
        "class GAE:\n",
        "  def __init__(self, n_workers, worker_steps, gamma, lambda_):\n",
        "        self.lambda_ = lambda_\n",
        "        self.gamma = gamma\n",
        "        self.worker_steps = worker_steps\n",
        "        self.n_workers = n_workers\n",
        "  \n",
        "  def __call__(self, done, rewards, values):\n",
        "    advantages = np.zeros((self.n_workers, self.worker_steps), dtype=np.float32)\n",
        "    last_advantage = 0\n",
        "    last_value = values[:, -1]\n",
        "    for t in reversed(range(self.worker_steps)):\n",
        "      mask = 1.0 - done[:, t]\n",
        "      last_value = last_value * mask\n",
        "      last_advantage = last_advantage * mask\n",
        "      advantages[:, t] = last_advantage\n",
        "      last_value = values[:, t]\n",
        "      return advantages"
      ],
      "metadata": {
        "id": "mSa-H6wpNTSC"
      },
      "execution_count": null,
      "outputs": []
    },
    {
      "cell_type": "markdown",
      "source": [
        "Laydown of how algo works:\n",
        "   - Initialize networks (and GAE if using it)\n",
        "  \n",
        "While running:\n",
        "   - Collects a batch of trajectories (for the next k timesteps) from the Actor\n",
        "   - Computes the reward-to-go for each trajectory in each step\n",
        "   - Computes the estimated advantage for each trajectory (either from Critic or GAE, we need to choose 1)\n",
        "   - Update Actor's params by maximizing PPO_Clip_Objective for the generated trajectories (Gradient Ascent via Adam)\n",
        "   - Update Critic's params by minimizing MSE loss between its estimated advantage and the actual advantage (environment reward)\n",
        "\n",
        "Hyperparams:\n",
        "   - Hidden Size Actor Net\n",
        "   - Hidden Size Critic Net\n",
        "   - Number of epochs train for\n",
        "   - lambda, gamma, worker_steps, n_workers if using GAE\n",
        "   - eps for g_func (determines clipping)\n",
        "   - learning_rate\n",
        "   - activation functions, optimizer used\n",
        "   - types of layers used in nets (will probably end up adding convolutional layers, but using linear layers to start)\n",
        "\n"
      ],
      "metadata": {
        "id": "QAuEHoiYSuRO"
      }
    },
    {
      "cell_type": "code",
      "source": [
        "loss_func1 = nn.MSELoss()\n",
        "model1 = Actor(some_vars)\n",
        "model2 = Critic(some_vars)\n",
        "opt1 = optim.Adam(model1.params())\n",
        "opt2 = optim.Adam(model2.params())\n",
        "#Some vars will depend on which subset of variables we decide to use"
      ],
      "metadata": {
        "id": "-XY2BPlDVx46"
      },
      "execution_count": null,
      "outputs": []
    },
    {
      "cell_type": "code",
      "source": [
        "'''Need to implement above training loop here'''"
      ],
      "metadata": {
        "id": "u9m4k886StBX"
      },
      "execution_count": null,
      "outputs": []
    }
  ]
}